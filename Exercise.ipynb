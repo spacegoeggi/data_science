{
 "cells": [
  {
   "attachments": {},
   "cell_type": "markdown",
   "id": "89d0f270-e012-4d95-850d-fbf05fc42281",
   "metadata": {},
   "source": [
    "## Hausaufgabe 5\n",
    "\n",
    "#### **Abgabe** <br> 10.06. 12:00 Uhr (via studIP) \n",
    "#### **Verteidigung** <br> 13.06. 08:00-11:00 Uhr \n",
    "\n",
    "Mit jedem Blatt können **maximal** 5 Prozentpunkte Bonus für die Klausur erreicht werden, falls:\n",
    "1) mind. 60% des Arbeitsblattes korrekt bearbeitet wurden \n",
    "2) das Arbeitsblatt erfolgreich verteidigt (den Tutoren erklärt) wurde.\n",
    "\n",
    "*Rahmenbedingungen*:\n",
    "- Jede Gruppe muss sich bei studIP für einen Slot zur Verteidigung registrieren.\n",
    "- Erfolgreiche Verteidigung bedeutet, dass ein von uns ausgewähltes Team-Mitglied die Lösung erklärt und Fragen dazu beantwortet.\n",
    "- ChatGPT und andere Hilfsmittel dürfen verwendet werden, müssen aber zitiert werden.\n",
    "- Der Code muss ohne Hilfsmittel erläutert werden.\n",
    "- Wir bewerten nicht nur die Korrektheit der Ergebnisse, sondern auch ob der Code effizient, einfach zu verstehen, aufgeräumt und gut dokumentiert ist.\n",
    "- Jede Gruppe gibt nur eine Lösung als Zip-Datei ab, die mit dem Namen und der Matrikelnummer eines Mitglieds versehen ist. Also z.B. `mustermann_12345678.zip` "
   ]
  },
  {
   "attachments": {},
   "cell_type": "markdown",
   "id": "c98c6db8-b47c-499d-a5a3-a57cf918f0a0",
   "metadata": {},
   "source": [
    "## Exercise 1\n",
    "**Achtung:** Manche Commands sind interaktiv. Daher empfehlen wir alle Anweisungen in einem separaten Terminal auszuführen und anschließend hier zu dokumentieren. \n",
    "\n",
    "**Achtung:** Wir wollen hier das Verwalten von Remote-Repositories, inklusive Forks und Pull-Requests üben. Da es nicht möglich ist sein eigenes Repository zu forken, müssen Sie entweder zwei Benutzer Konten haben (arbeitet in Gruppen) oder Sie legen das Remote-Repository in einer Organisation an (siehe [hier](https://docs.github.com/en/organizations/collaborating-with-groups-in-organizations/creating-a-new-organization-from-scratch)) und forken das Repository dann mit ihrem eigenen Account.  \n",
    "\n",
    "Die Finale Abgabe sollte das gesamte Git-Repository (den Ordner inklusive des versteckten Unterordners `.git` und den Link zu GitHub) beinhalten, welches zeigt dass Sie alle Befehle korrekt ausgeführt haben."
   ]
  },
  {
   "attachments": {},
   "cell_type": "markdown",
   "id": "f8e2ed09-bdc7-4846-812b-a90a6da9711e",
   "metadata": {},
   "source": [
    "#### a) [2.5%] \n",
    "- Erstellen Sie ein neues lokales Repository \n",
    "- Legen Sie die Dateien `mergesort.py` und `to_be_ignored.txt` in das Repository und commiten Sie sie."
   ]
  },
  {
   "cell_type": "code",
   "execution_count": null,
   "id": "e9ea1105",
   "metadata": {
    "vscode": {
     "languageId": "plaintext"
    }
   },
   "outputs": [],
   "source": [
    "git init\n",
    "git branch -m main\n",
    "git add \"mergesort.py\" \"to_be_ignored.txt\"\n",
    "git commit -m \"initial commit\""
   ]
  },
  {
   "attachments": {},
   "cell_type": "markdown",
   "id": "23b63840-7c4d-40cd-9fe2-c51a869fc0ec",
   "metadata": {},
   "source": [
    "#### b) [5%]\n",
    "- Erstellen Sie eine `.gitignore` Datei (siehe [hier](https://github.com/github/gitignore) für Beispiele von nützlichen gitignore Vorlagen). \n",
    "- Fügen Sie `to_be_ignored.txt` zur `.gitignore` hinzu und entfernen Sie sie aus der Git-Historie."
   ]
  },
  {
   "cell_type": "code",
   "execution_count": null,
   "id": "62f99fbe",
   "metadata": {
    "vscode": {
     "languageId": "plaintext"
    }
   },
   "outputs": [],
   "source": [
    "nano .gitignore \n",
    "git add \".gitignore\"\n",
    "git commit -m \"added .gitignore\"\n",
    "git filter-repo --invert-paths --path to_be_ignored.txt --force  "
   ]
  },
  {
   "attachments": {},
   "cell_type": "markdown",
   "id": "ab7a9d11-89eb-4716-8571-34766d4c976f",
   "metadata": {},
   "source": [
    "#### c) [15%]\n",
    "- Erstellen Sie einen neuen Branch (Feature Branch) und wechseln Sie anschließend zu diesem.\n",
    "- Bereinigen Sie die Datei `mergesort.py`, um die Regeln für sauberen Code zu befolgen, die wir in der Vorlesung aufgestellt haben. \n",
    "- Versuchen Sie auch, den Code zu verstehen (siehe z.B. [hier](https://www.happycoders.eu/de/algorithmen/mergesort/) für eine Erklärung des Algorithmus) und dokumentieren Sie den Code.\n",
    "- Seine Funktionalität sollte sich nicht ändern!\n",
    "- Es sollte mindestens 7 Punkte geben, die zu verbessern sind.\n",
    "- Commiten Sie Ihre Änderungen. "
   ]
  },
  {
   "cell_type": "code",
   "execution_count": null,
   "id": "75e295c5",
   "metadata": {
    "vscode": {
     "languageId": "plaintext"
    }
   },
   "outputs": [],
   "source": [
    "git switch -c cleanup \n",
    "git add \"mergesort.py\"\n",
    "git commit -m \"clean up mergesort.py\"\n"
   ]
  },
  {
   "attachments": {},
   "cell_type": "markdown",
   "id": "1c131abc-c1b0-4b97-ac37-04abad5f5e99",
   "metadata": {},
   "source": [
    "#### d) [5%]\n",
    "- Erstellen Sie ein neues Repository auf GitHub (machen Sie es public). \n",
    "- Richten Sie eine ssh-Verifizierung für Ihr GitHub-Konto ein. \n",
    "- Fügen Sie die ssh-Adresse Ihres Repositorys als neues remote Repository zu Ihrem lokalen Repository hinzu.  "
   ]
  },
  {
   "cell_type": "code",
   "execution_count": null,
   "id": "be3b9797",
   "metadata": {
    "vscode": {
     "languageId": "plaintext"
    }
   },
   "outputs": [],
   "source": [
    "git remote add origin git@github.com:spacegoeggi/data_science.git\n"
   ]
  },
  {
   "attachments": {},
   "cell_type": "markdown",
   "id": "5a03706d-c986-48c9-9207-2ff59770b7f4",
   "metadata": {},
   "source": [
    "#### e) [2.5%]\n",
    "- Wechseln Sie zurück zum `main` Branch.\n",
    "- Pushen Sie in Ihr remote Repository"
   ]
  },
  {
   "cell_type": "code",
   "execution_count": null,
   "id": "fe7c6a6e",
   "metadata": {
    "vscode": {
     "languageId": "plaintext"
    }
   },
   "outputs": [],
   "source": [
    "git switch main\n",
    "git push -u origin main"
   ]
  },
  {
   "attachments": {},
   "cell_type": "markdown",
   "id": "6d91483e-0a00-4fba-958d-fea707fd47e2",
   "metadata": {},
   "source": [
    "#### f) [5%]\n",
    "- Ändern Sie den Plotting-Teil von `mergesort.py` so, dass er die in der Vorlesung festgelegten Standards widerspiegelt. (Versuchen Sie auch zu überlegen, was die beste Art Plot für diese Daten sein könnte.)\n",
    "- Commiten Sie es und pushen Sie es in das remote Repository."
   ]
  },
  {
   "cell_type": "code",
   "execution_count": null,
   "id": "f848a061",
   "metadata": {
    "vscode": {
     "languageId": "plaintext"
    }
   },
   "outputs": [],
   "source": [
    " git add \"mergesort.py\" \n",
    "git commit -m \"added labeling to plots in mergesort.py\"\n",
    "git push "
   ]
  },
  {
   "attachments": {},
   "cell_type": "markdown",
   "id": "3f4d7088-60b8-41b5-9806-114839f8e8cb",
   "metadata": {},
   "source": [
    "#### g) [2.5%]\n",
    " - Wechseln Sie zurück zum Feature Branch. \n",
    " - Erstellen Sie einen Fork des remote Repositorys auf GitHub. **Dies muss durch einen anderen Benutzer geschehen, falls das original Repository nicht zu einer Organisation gehört!**  \n",
    " - Fügen Sie den Fork als weiteres remote Repository zu Ihrem lokalen Repository hinzu. \n",
    " - Pushen Sie Ihren lokalen Branch in den Fork und erstellen Sie einen Pull-Request auf GitHub."
   ]
  },
  {
   "cell_type": "code",
   "execution_count": null,
   "id": "36d55c11",
   "metadata": {
    "vscode": {
     "languageId": "plaintext"
    }
   },
   "outputs": [],
   "source": [
    "git remote add fork git@github.com:ColdStone37/data_science.git\n",
    "git push fork cleanup\n"
   ]
  },
  {
   "attachments": {},
   "cell_type": "markdown",
   "id": "6d9dbf98-3ea2-4b7f-8b8b-eb4526784c28",
   "metadata": {},
   "source": [
    "#### h) [10%]\n",
    "- Der Pull-Request sollte anzeigen, dass es Konflikte gibt. \n",
    "- Mergen Sie den `main`-Branch (lokal auf Ihrem Computer) in Ihren Feature-Branch ein (nicht umgekehrt!) und lösen Sie die Konflikte.\n",
    "- Pushen Sie Ihren Feature-Branch wieder in Ihren Fork und mergen Sie den Pull-Request."
   ]
  },
  {
   "cell_type": "code",
   "execution_count": null,
   "id": "2248a9a7",
   "metadata": {
    "vscode": {
     "languageId": "plaintext"
    }
   },
   "outputs": [],
   "source": [
    " git checkout cleanup\n",
    " git merge main\n",
    " git add \"mergesort.py\"\n",
    " git commit -m \"fixed conflict\"\n",
    " git push fork cleanup  "
   ]
  },
  {
   "attachments": {},
   "cell_type": "markdown",
   "id": "8f690324-815f-4e2e-807b-3e6f87f483dd",
   "metadata": {},
   "source": [
    "#### i) [2.5%]\n",
    "- Wechseln Sie zurück zum \"main\"-Branch und pullen Sie aus dem remote Repository.\n",
    "- Löschen Sie den lokalen Feature-Branch (er ist ja bereits im main Branch)."
   ]
  },
  {
   "cell_type": "code",
   "execution_count": null,
   "id": "677abe5f",
   "metadata": {
    "vscode": {
     "languageId": "plaintext"
    }
   },
   "outputs": [],
   "source": [
    "git switch main\n",
    "git pull\n",
    "git checkout main\n",
    "git branch -D cleanup"
   ]
  },
  {
   "attachments": {},
   "cell_type": "markdown",
   "id": "d44e4b00-95cf-4be3-8b46-90d53bfad0aa",
   "metadata": {},
   "source": [
    "Zeigen Sie ihre Git-Historie an:"
   ]
  },
  {
   "cell_type": "code",
   "execution_count": null,
   "id": "b4db096d-eeaf-442e-8620-6b76bb4f33eb",
   "metadata": {},
   "outputs": [],
   "source": [
    "git log\n",
    "\n",
    "commit 289ca58242f0730660142753505f5265e9c9639c (HEAD -> main, origin/main)\n",
    "Merge: 2ddafa4 778d7a6\n",
    "Author: spacegoeggi <ariane.kahl@stud.uni-goettingen.de>\n",
    "Date:   Tue Jun 4 09:58:32 2024 +0200\n",
    "\n",
    "    Merge pull request #1 from ColdStone37/cleanup\n",
    "    \n",
    "    clean up mergesort.py\n",
    "\n",
    "commit 778d7a68a1671889f67214dd75473a0ca1fa53df (fork/cleanup)\n",
    "Merge: fc451f8 2ddafa4\n",
    "Author: Ariane Kahl <ariane.kahl@stud.uni-goettingen.de>\n",
    "Date:   Tue Jun 4 09:56:46 2024 +0200\n",
    "\n",
    "    fixed conflict\n",
    "\n",
    "commit 2ddafa49d9816c3c0f20d82aa4b4b9ff727b4f97 (fork/main)\n",
    "Author: Ariane Kahl <ariane.kahl@stud.uni-goettingen.de>\n",
    "Date:   Tue Jun 4 09:35:58 2024 +0200\n",
    "\n",
    "    added labeling to plots in mergesort.py\n",
    "\n",
    "commit fc451f82c3cd688b71f3baf4317529e82d547d8e (origin/cleanup)\n",
    "Author: Ariane Kahl <ariane.kahl@stud.uni-goettingen.de>\n",
    "Date:   Fri May 31 15:04:39 2024 +0200\n",
    "\n",
    "    clean up mergesort.py\n",
    "\n",
    "commit 4ee30fa566dbd1eb82b0482c96681c0291a29929\n",
    "Author: Ariane Kahl <ariane.kahl@stud.uni-goettingen.de>\n",
    "Date:   Fri May 31 14:11:31 2024 +0200\n",
    "\n",
    "    added .gitignore\n",
    "\n",
    "commit 1d1b53cb9cb7326c922c2f9464860f6d33baf2e0\n",
    "Author: Ariane Kahl <ariane.kahl@stud.uni-goettingen.de>\n",
    "Date:   Fri May 31 14:01:07 2024 +0200\n",
    "\n",
    "    initial commit"
   ]
  },
  {
   "attachments": {},
   "cell_type": "markdown",
   "id": "2932b317-11a9-4cfd-9757-519c0cd4a396",
   "metadata": {},
   "source": [
    "## Exercise 2"
   ]
  },
  {
   "attachments": {},
   "cell_type": "markdown",
   "id": "39e88314-ea52-4e2a-a106-41e006e64b29",
   "metadata": {},
   "source": [
    "Betrachten Sie die folgende Aufgabe:\n",
    "\n",
    "Gegeben ist ein Array von Intergern in dem alle Elemente außer eins genau zweimal vorkommen, finden Sie das einzelne Element.\n",
    "\n",
    "Beispiel: `[1,2,3,4,3,1,2]`\n",
    "\n",
    "Das einzelne Element ist: `4`\n",
    "\n",
    "Sie können annehmen, dass der Array ungerade Länge hat und es nur ein Element gibt, das nur genau einmal vorkommt.\n",
    "\n",
    "Hinweis: Die folgenden Aufgaben müssen nicht notwendigerweise in Reihenfolge bearbeitet werden.\n"
   ]
  },
  {
   "attachments": {},
   "cell_type": "markdown",
   "id": "1be8bfc4-a31b-49ee-8ceb-f8c8daa863de",
   "metadata": {},
   "source": [
    "#### a) [15%] Schreiben Sie test-Fälle für die oben beschrieben Aufgabe. \n",
    "(Mind. 5 Testfälle nötig!) \n",
    "Denken Sie an mögliche Randfälle und ungültige Eingaben.\n",
    "\n",
    "**Benutzen sie `pytest` und schreiben Sie die Tests in separate Dateien.**"
   ]
  },
  {
   "attachments": {},
   "cell_type": "markdown",
   "id": "1a6141b7-2f71-4ff2-8dfe-55e837ee512e",
   "metadata": {},
   "source": [
    "#### b) [10%] Basierend auf den test-Fällen, schreiben Sie eine Methode welche den Task erfolgreich (und effizient) löst."
   ]
  },
  {
   "attachments": {},
   "cell_type": "markdown",
   "id": "fe34d47b-87c5-4b09-9971-afa77a183380",
   "metadata": {},
   "source": [
    "Die Methode soll ebenfalls in eine separate Datei geschrieben werden."
   ]
  },
  {
   "attachments": {},
   "cell_type": "markdown",
   "id": "4af37373-85a5-4e27-96a9-0c093f56a2c8",
   "metadata": {},
   "source": [
    "#### c) [10%] Schreiben Sie ein Docker-File welches `numpy`, `pandas`, `matplotlib` und `seaborn` installiert. "
   ]
  },
  {
   "attachments": {},
   "cell_type": "markdown",
   "id": "4101f101-6a16-4308-add4-f4dc94ec8a9c",
   "metadata": {},
   "source": [
    "#### d) [15%] Schreiben Sie eine Docker-compose Datei, welche zwei verschiedene Services anbietet:\n",
    "\n",
    "1. Alle Tests durchlaufen lassen.\n",
    "2. Die Methode für einen gegebenen Input laufen lassen.\n",
    "\n",
    "Stellen Sie auch sicher, dass der Container das Verzeichnis mit Ihren Skripten mountet, sodass Sie Zugriff auf die aktuelle Version Ihres Codes haben.\n",
    "\n",
    "Demonstrieren Sie in einem Test auch, dass die angegebenen Libraries aus c) erfolgreich installiert sind."
   ]
  },
  {
   "cell_type": "code",
   "execution_count": null,
   "id": "feb8fb48-b980-4e0f-8c16-1373e375c63b",
   "metadata": {},
   "outputs": [],
   "source": []
  }
 ],
 "metadata": {
  "kernelspec": {
   "display_name": "Bash",
   "language": "bash",
   "name": "bash"
  },
  "language_info": {
   "codemirror_mode": "shell",
   "file_extension": ".sh",
   "mimetype": "text/x-sh",
   "name": "bash"
  }
 },
 "nbformat": 4,
 "nbformat_minor": 5
}
